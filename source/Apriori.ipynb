{
 "cells": [
  {
   "cell_type": "markdown",
   "metadata": {},
   "source": [
    "# Data acquisition"
   ]
  },
  {
   "cell_type": "code",
   "execution_count": 3,
   "metadata": {},
   "outputs": [],
   "source": [
    "import pandas as pd\n",
    "from apyori import apriori\n",
    "\n",
    "def data_acquisition(dataset):\n",
    "    df = pd.read_csv('../dataset/mercado-' + dataset + '.csv', header = None)\n",
    "    transactions = []\n",
    "    \n",
    "    if dataset == '1':\n",
    "        for i in range(0,10):\n",
    "            transactions.append([str(df.values[i,j]) for j in range(0,4)])    \n",
    "    else:\n",
    "        for i in range(0,7501):\n",
    "            transactions.append([str(df.values[i,j]) for j in range(0,20)])\n",
    "    \n",
    "    return transactions"
   ]
  },
  {
   "cell_type": "markdown",
   "metadata": {},
   "source": [
    "# Apriori"
   ]
  },
  {
   "cell_type": "markdown",
   "metadata": {},
   "source": [
    "#### First dataset"
   ]
  },
  {
   "cell_type": "code",
   "execution_count": 5,
   "metadata": {
    "scrolled": true
   },
   "outputs": [
    {
     "name": "stdout",
     "output_type": "stream",
     "text": [
      "[[frozenset({'cafe'}), frozenset({'manteiga'}), 1.0, 2.0]]\n",
      "[[frozenset({'cafe'}), frozenset({'pao'}), 1.0, 2.0]]\n",
      "[[frozenset({'cafe'}), frozenset({'pao', 'manteiga'}), 1.0, 2.5], [frozenset({'cafe', 'manteiga'}), frozenset({'pao'}), 1.0, 2.0], [frozenset({'pao', 'cafe'}), frozenset({'manteiga'}), 1.0, 2.0]]\n"
     ]
    }
   ],
   "source": [
    "transactions = data_acquisition('1')\n",
    "rules = list(apriori(transactions, min_support = 0.3, min_confidence = 0.8, min_lift = 2, min_lenght = 2))\n",
    "results = [list(x) for x in rules]\n",
    "\n",
    "for j in range(len(rules)):\n",
    "    print([list(x) for x in results[j][2]])"
   ]
  },
  {
   "cell_type": "markdown",
   "metadata": {},
   "source": [
    "#### Second datase"
   ]
  },
  {
   "cell_type": "code",
   "execution_count": 6,
   "metadata": {},
   "outputs": [
    {
     "name": "stdout",
     "output_type": "stream",
     "text": [
      "[[frozenset({'whole wheat pasta', 'mineral water'}), frozenset({'olive oil'}), 0.4027777777777778, 6.115862573099416]]\n",
      "[[frozenset({'olive oil', 'frozen vegetables'}), frozenset({'milk', 'mineral water'}), 0.29411764705882354, 6.12826797385621]]\n",
      "[[frozenset({'soup', 'frozen vegetables'}), frozenset({'milk', 'mineral water'}), 0.3833333333333333, 7.987175925925926]]\n",
      "[[frozenset({'whole wheat pasta', 'mineral water'}), frozenset({'olive oil', 'nan'}), 0.4027777777777778, 6.128267973856209], [frozenset({'whole wheat pasta', 'nan', 'mineral water'}), frozenset({'olive oil'}), 0.4027777777777778, 6.115862573099416]]\n",
      "[[frozenset({'olive oil', 'frozen vegetables'}), frozenset({'nan', 'milk', 'mineral water'}), 0.29411764705882354, 6.12826797385621], [frozenset({'olive oil', 'nan', 'frozen vegetables'}), frozenset({'milk', 'mineral water'}), 0.29411764705882354, 6.12826797385621]]\n",
      "[[frozenset({'soup', 'frozen vegetables'}), frozenset({'nan', 'milk', 'mineral water'}), 0.3833333333333333, 7.987175925925926], [frozenset({'soup', 'nan', 'frozen vegetables'}), frozenset({'milk', 'mineral water'}), 0.3833333333333333, 7.987175925925926]]\n"
     ]
    }
   ],
   "source": [
    "transactions = data_acquisition('2')\n",
    "rules = list(apriori(transactions, min_support = 0.003, min_confidence = 0.2, min_lift = 6, min_lenght = 2))\n",
    "results = [list(x) for x in rules]\n",
    "\n",
    "for j in range(len(rules)):\n",
    "    print([list(x) for x in results[j][2]])"
   ]
  },
  {
   "cell_type": "code",
   "execution_count": null,
   "metadata": {},
   "outputs": [],
   "source": []
  }
 ],
 "metadata": {
  "kernelspec": {
   "display_name": "Python 3",
   "language": "python",
   "name": "python3"
  },
  "language_info": {
   "codemirror_mode": {
    "name": "ipython",
    "version": 3
   },
   "file_extension": ".py",
   "mimetype": "text/x-python",
   "name": "python",
   "nbconvert_exporter": "python",
   "pygments_lexer": "ipython3",
   "version": "3.7.6"
  }
 },
 "nbformat": 4,
 "nbformat_minor": 4
}
