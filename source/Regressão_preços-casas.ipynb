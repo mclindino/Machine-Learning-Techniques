{
 "cells": [
  {
   "cell_type": "markdown",
   "metadata": {},
   "source": [
    "## Lendo csv e separando elementos"
   ]
  },
  {
   "cell_type": "code",
   "execution_count": 1,
   "metadata": {},
   "outputs": [],
   "source": [
    "import pandas as pd\n",
    "df = pd.read_csv('../dataset/preco_casas.csv')"
   ]
  },
  {
   "cell_type": "markdown",
   "metadata": {},
   "source": [
    "## Separando dataset"
   ]
  },
  {
   "cell_type": "code",
   "execution_count": 2,
   "metadata": {},
   "outputs": [],
   "source": [
    "from sklearn.model_selection import train_test_split\n",
    "\n",
    "def dataset_split(x, y):\n",
    "    return train_test_split(x, y, test_size = 0.3, random_state = 0)"
   ]
  },
  {
   "cell_type": "markdown",
   "metadata": {},
   "source": [
    "## Regressor Linear Simples"
   ]
  },
  {
   "cell_type": "code",
   "execution_count": 3,
   "metadata": {},
   "outputs": [
    {
     "data": {
      "image/png": "[encoded data removed]",
      "text/plain": [
       "<Figure size 432x288 with 1 Axes>"
      ]
     },
     "metadata": {
      "needs_background": "light"
     },
     "output_type": "display_data"
    }
   ],
   "source": [
    "from sklearn.linear_model import LinearRegression\n",
    "from sklearn.metrics import mean_absolute_error, mean_squared_error\n",
    "import matplotlib.pyplot as plt\n",
    "\n",
    "x = df.iloc[:, 5].values.reshape(-1,1)\n",
    "y = df.iloc[:, 2].values\n",
    "\n",
    "regressor_linear = LinearRegression()\n",
    "dataset = dataset_split(x, y)\n",
    "regressor_linear.fit(dataset[0], dataset[2])\n",
    "\n",
    "plt.scatter(dataset[1], dataset[3])\n",
    "plt.plot(dataset[1], regressor_linear.predict(dataset[1]), color = 'red')\n",
    "\n",
    "linear_simples_score = regressor_linear.score(dataset[1], dataset[3])\n",
    "linear_simples_error = mean_absolute_error(dataset[3], regressor_linear.predict(dataset[1]))\n",
    "#print('Erro quadrático:',mean_squared_error(dataset[3], regressor_linear.predict(dataset[1])))"
   ]
  },
  {
   "cell_type": "markdown",
   "metadata": {},
   "source": [
    "## Regressão Linear Múltipla"
   ]
  },
  {
   "cell_type": "code",
   "execution_count": 4,
   "metadata": {},
   "outputs": [],
   "source": [
    "from sklearn.linear_model import LinearRegression\n",
    "\n",
    "x = df.iloc[:, 3:19].values\n",
    "y = df.iloc[:, 2].values\n",
    "\n",
    "regressor_linear = LinearRegression()\n",
    "dataset = dataset_split(x, y)\n",
    "regressor_linear.fit(dataset[0], dataset[2])\n",
    "\n",
    "linear_multipla_score = regressor_linear.score(dataset[1], dataset[3])\n",
    "linear_multipla_error = mean_absolute_error(dataset[3], regressor_linear.predict(dataset[1]))"
   ]
  },
  {
   "cell_type": "markdown",
   "metadata": {},
   "source": [
    "## Regressão Linear Polinomial"
   ]
  },
  {
   "cell_type": "code",
   "execution_count": 5,
   "metadata": {},
   "outputs": [],
   "source": [
    "from sklearn.preprocessing import PolynomialFeatures\n",
    "\n",
    "x = df.iloc[:, 3:19].values\n",
    "y = df.iloc[:, 2].values\n",
    "poly = PolynomialFeatures(degree = 2)\n",
    "dataset = dataset_split(x, y)\n",
    "dataset[0], dataset[1] = poly.fit_transform(dataset[0]), poly.fit_transform(dataset[1])\n",
    "\n",
    "regressor_polinomial = LinearRegression()\n",
    "regressor_polinomial.fit(dataset[0], dataset[2])\n",
    "\n",
    "linear_polinomial_score = regressor_polinomial.score(dataset[1], dataset[3])\n",
    "linear_polinomial_error = mean_absolute_error(dataset[3], regressor_polinomial.predict(dataset[1]))"
   ]
  },
  {
   "cell_type": "markdown",
   "metadata": {},
   "source": [
    "## Árvore de Decisão"
   ]
  },
  {
   "cell_type": "code",
   "execution_count": 6,
   "metadata": {},
   "outputs": [],
   "source": [
    "x = df.iloc[:, 3:19].values\n",
    "y = df.iloc[:, 2].values\n",
    "dataset = dataset_split(x, y)\n",
    "\n",
    "from sklearn.tree import DecisionTreeRegressor\n",
    "decision_tree = DecisionTreeRegressor()\n",
    "decision_tree.fit(dataset[0], dataset[2])\n",
    "\n",
    "decision_tree_score = decision_tree.score(dataset[1], dataset[3])\n",
    "decision_tree_error = mean_absolute_error(dataset[3], decision_tree.predict(dataset[1]))"
   ]
  },
  {
   "cell_type": "markdown",
   "metadata": {},
   "source": [
    "## Random Forest"
   ]
  },
  {
   "cell_type": "code",
   "execution_count": 7,
   "metadata": {},
   "outputs": [],
   "source": [
    "x = df.iloc[:, 3:19].values\n",
    "y = df.iloc[:, 2].values\n",
    "dataset = dataset_split(x, y)\n",
    "\n",
    "from sklearn.ensemble import RandomForestRegressor\n",
    "random_forest = RandomForestRegressor(n_estimators = 100)\n",
    "random_forest.fit(dataset[0], dataset[2])\n",
    "\n",
    "random_forest_score = random_forest.score(dataset[1], dataset[3])\n",
    "random_forest_error = mean_absolute_error(dataset[3], random_forest.predict(dataset[1]))"
   ]
  },
  {
   "cell_type": "markdown",
   "metadata": {},
   "source": [
    "## SVR"
   ]
  },
  {
   "cell_type": "code",
   "execution_count": 8,
   "metadata": {},
   "outputs": [
    {
     "name": "stderr",
     "output_type": "stream",
     "text": [
      "/home/lindino/anaconda3/lib/python3.7/site-packages/sklearn/utils/validation.py:760: DataConversionWarning: A column-vector y was passed when a 1d array was expected. Please change the shape of y to (n_samples, ), for example using ravel().\n",
      "  y = column_or_1d(y, warn=True)\n"
     ]
    }
   ],
   "source": [
    "from sklearn.preprocessing import StandardScaler\n",
    "scaler = StandardScaler()\n",
    "\n",
    "x = scaler.fit_transform(df.iloc[:, 3:19].values)\n",
    "y = scaler.fit_transform(df.iloc[:, 2:3].values)\n",
    "\n",
    "dataset = dataset_split(x, y)\n",
    "\n",
    "from sklearn.svm import SVR\n",
    "svr = SVR(kernel = 'rbf', C = 2.0)\n",
    "svr.fit(dataset[0], dataset[2])\n",
    "\n",
    "svr_score = svr.score(dataset[1], dataset[3])\n",
    "svr_error = mean_absolute_error(scaler.inverse_transform(dataset[3]), scaler.inverse_transform(svr.predict(dataset[1])))"
   ]
  },
  {
   "cell_type": "markdown",
   "metadata": {},
   "source": [
    "## Redes Neurais"
   ]
  },
  {
   "cell_type": "code",
   "execution_count": 11,
   "metadata": {},
   "outputs": [
    {
     "name": "stderr",
     "output_type": "stream",
     "text": [
      "/home/lindino/anaconda3/lib/python3.7/site-packages/sklearn/neural_network/_multilayer_perceptron.py:1342: DataConversionWarning: A column-vector y was passed when a 1d array was expected. Please change the shape of y to (n_samples, ), for example using ravel().\n",
      "  y = column_or_1d(y, warn=True)\n"
     ]
    }
   ],
   "source": [
    "from sklearn.preprocessing import StandardScaler\n",
    "scaler = StandardScaler()\n",
    "\n",
    "x = scaler.fit_transform(df.iloc[:, 3:19].values)\n",
    "y = scaler.fit_transform(df.iloc[:, 2:3].values)\n",
    "\n",
    "dataset = dataset_split(x, y)\n",
    "\n",
    "from sklearn.neural_network import MLPRegressor\n",
    "mlp = MLPRegressor(hidden_layer_sizes = (9,9))\n",
    "mlp.fit(dataset[0],dataset[2])\n",
    "\n",
    "rede_neural_score = mlp.score(dataset[1], dataset[3])\n",
    "rede_neural_error = mean_absolute_error(scaler.inverse_transform(dataset[3]), scaler.inverse_transform(mlp.predict(dataset[1])))"
   ]
  },
  {
   "cell_type": "markdown",
   "metadata": {},
   "source": [
    "## Resultados"
   ]
  },
  {
   "cell_type": "code",
   "execution_count": 12,
   "metadata": {},
   "outputs": [
    {
     "name": "stdout",
     "output_type": "stream",
     "text": [
      "\u001b[1mSimples\u001b[0;0m \t-> \u001b[1m\tAcurácia:\u001b[1;32m 48.9%\u001b[0;0m\u001b[1m \tErro:\u001b[1;32m 172604.13\u001b[0;0m\n",
      "\u001b[1mMúltipla\u001b[0;0m \t-> \u001b[1m\tAcurácia:\u001b[1;32m 68.9%\u001b[0;0m\u001b[1m \tErro:\u001b[1;32m 123888.44\u001b[0;0m\n",
      "\u001b[1mPolinomial\u001b[0;0m \t-> \u001b[1m\tAcurácia:\u001b[1;32m 81.5%\u001b[0;0m\u001b[1m \tErro:\u001b[1;32m 101228.21\u001b[0;0m\n",
      "\u001b[1mDecision Tree\u001b[0;0m \t-> \u001b[1m\tAcurácia:\u001b[1;32m 73.7%\u001b[0;0m\u001b[1m \tErro:\u001b[1;32m 99853.28\u001b[0;0m\n",
      "\u001b[1mRandom Forest\u001b[0;0m \t-> \u001b[1m\tAcurácia:\u001b[1;32m 88.4%\u001b[0;0m\u001b[1m \tErro:\u001b[1;32m 67451.64\u001b[0;0m\n",
      "\u001b[1mSVR\u001b[0;0m \t\t-> \u001b[1m\tAcurácia:\u001b[1;32m 75.5%\u001b[0;0m\u001b[1m \tErro:\u001b[1;32m 81089.72\u001b[0;0m\n",
      "\u001b[1mRede Neural\u001b[0;0m \t-> \u001b[1m\tAcurácia:\u001b[1;32m 88.6%\u001b[0;0m\u001b[1m \tErro:\u001b[1;32m 72487.98\u001b[0;0m\n"
     ]
    }
   ],
   "source": [
    "GREEN = \"\\033[1;32m\" \n",
    "RESET = '\\033[0;0m'\n",
    "NEGRITO = '\\033[1m'\n",
    "scores = {'Simples': linear_simples_score,'Múltipla': linear_multipla_score, 'Polinomial': linear_polinomial_score,\n",
    "          'Decision Tree': decision_tree_score, 'Random Forest': random_forest_score, 'SVR': svr_score, \n",
    "          'Rede Neural': rede_neural_score}\n",
    "errors = {'Simples': linear_simples_error,'Múltipla': linear_multipla_error, 'Polinomial': linear_polinomial_error,\n",
    "          'Decision Tree': decision_tree_error, 'Random Forest': random_forest_error,'SVR': svr_error, \n",
    "          'Rede Neural': rede_neural_error}\n",
    "\n",
    "for model in scores:\n",
    "    if model == 'SVR':\n",
    "        print('{}{}{} \\t\\t-> {}\\tAcurácia:{} {:.1f}%{}{} \\tErro:{} {:.2f}{}'.format(NEGRITO,model,RESET,NEGRITO,GREEN,(scores[model] * 100), RESET,NEGRITO,GREEN,errors[model],RESET))\n",
    "    else:\n",
    "        print('{}{}{} \\t-> {}\\tAcurácia:{} {:.1f}%{}{} \\tErro:{} {:.2f}{}'.format(NEGRITO,model,RESET,NEGRITO,GREEN,(scores[model] * 100), RESET,NEGRITO,GREEN,errors[model],RESET))"
   ]
  },
  {
   "cell_type": "code",
   "execution_count": null,
   "metadata": {},
   "outputs": [],
   "source": []
  }
 ],
 "metadata": {
  "kernelspec": {
   "display_name": "Python 3",
   "language": "python",
   "name": "python3"
  },
  "language_info": {
   "codemirror_mode": {
    "name": "ipython",
    "version": 3
   },
   "file_extension": ".py",
   "mimetype": "text/x-python",
   "name": "python",
   "nbconvert_exporter": "python",
   "pygments_lexer": "ipython3",
   "version": "3.7.6"
  }
 },
 "nbformat": 4,
 "nbformat_minor": 4
}
