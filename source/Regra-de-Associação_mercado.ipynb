{
 "cells": [
  {
   "cell_type": "markdown",
   "metadata": {},
   "source": [
    "## Lendo csv e ajustando dados"
   ]
  },
  {
   "cell_type": "code",
   "execution_count": 13,
   "metadata": {},
   "outputs": [],
   "source": [
    "import pandas as pd\n",
    "df = pd.read_csv('../dataset/mercado.csv', header = None)\n",
    "\n",
    "transacoes = []\n",
    "for i in range(0,10):\n",
    "    transacoes.append([str(df.values[i,j]) for j in range(0,4)])"
   ]
  },
  {
   "cell_type": "markdown",
   "metadata": {},
   "source": [
    "## Apriori - mercado 1"
   ]
  },
  {
   "cell_type": "code",
   "execution_count": 22,
   "metadata": {
    "scrolled": true
   },
   "outputs": [
    {
     "name": "stdout",
     "output_type": "stream",
     "text": [
      "[[frozenset({'cafe'}), frozenset({'manteiga'}), 1.0, 2.0]]\n",
      "[[frozenset({'cafe'}), frozenset({'pao'}), 1.0, 2.0]]\n",
      "[[frozenset({'cafe'}), frozenset({'manteiga', 'pao'}), 1.0, 2.5], [frozenset({'cafe', 'manteiga'}), frozenset({'pao'}), 1.0, 2.0], [frozenset({'cafe', 'pao'}), frozenset({'manteiga'}), 1.0, 2.0]]\n"
     ]
    }
   ],
   "source": [
    "from apyori import apriori\n",
    "regras = list(apriori(transacoes, min_support = 0.3, min_confidence = 0.8, min_lift = 2, min_lenght = 2))\n",
    "resultado = [list(x) for x in regras]\n",
    "\n",
    "for j in range(len(regras)):\n",
    "    print([list(x) for x in resultado[j][2]])"
   ]
  },
  {
   "cell_type": "markdown",
   "metadata": {},
   "source": [
    "## Apriori - mercado 2"
   ]
  },
  {
   "cell_type": "code",
   "execution_count": 30,
   "metadata": {},
   "outputs": [
    {
     "name": "stdout",
     "output_type": "stream",
     "text": [
      "[[frozenset({'mineral water', 'whole wheat pasta'}), frozenset({'olive oil'}), 0.4027777777777778, 6.115862573099416]]\n",
      "[[frozenset({'olive oil', 'frozen vegetables'}), frozenset({'milk', 'mineral water'}), 0.29411764705882354, 6.12826797385621]]\n",
      "[[frozenset({'soup', 'frozen vegetables'}), frozenset({'milk', 'mineral water'}), 0.3833333333333333, 7.987175925925926]]\n",
      "[[frozenset({'mineral water', 'whole wheat pasta'}), frozenset({'olive oil', 'nan'}), 0.4027777777777778, 6.128267973856209], [frozenset({'nan', 'mineral water', 'whole wheat pasta'}), frozenset({'olive oil'}), 0.4027777777777778, 6.115862573099416]]\n",
      "[[frozenset({'olive oil', 'frozen vegetables'}), frozenset({'milk', 'nan', 'mineral water'}), 0.29411764705882354, 6.12826797385621], [frozenset({'olive oil', 'nan', 'frozen vegetables'}), frozenset({'milk', 'mineral water'}), 0.29411764705882354, 6.12826797385621]]\n",
      "[[frozenset({'soup', 'frozen vegetables'}), frozenset({'milk', 'nan', 'mineral water'}), 0.3833333333333333, 7.987175925925926], [frozenset({'nan', 'soup', 'frozen vegetables'}), frozenset({'milk', 'mineral water'}), 0.3833333333333333, 7.987175925925926]]\n"
     ]
    }
   ],
   "source": [
    "df = pd.read_csv('../dataset/mercado-2.csv', header = None)\n",
    "\n",
    "transacoes = []\n",
    "for i in range(0,7501):\n",
    "    transacoes.append([str(df.values[i,j]) for j in range(0,20)])\n",
    "    \n",
    "regras = list(apriori(transacoes, min_support = 0.003, min_confidence = 0.2, min_lift = 6, min_lenght = 2))\n",
    "resultado = [list(x) for x in regras]\n",
    "\n",
    "for j in range(len(regras)):\n",
    "    print([list(x) for x in resultado[j][2]])"
   ]
  }
 ],
 "metadata": {
  "kernelspec": {
   "display_name": "Python 3",
   "language": "python",
   "name": "python3"
  },
  "language_info": {
   "codemirror_mode": {
    "name": "ipython",
    "version": 3
   },
   "file_extension": ".py",
   "mimetype": "text/x-python",
   "name": "python",
   "nbconvert_exporter": "python",
   "pygments_lexer": "ipython3",
   "version": "3.7.6"
  }
 },
 "nbformat": 4,
 "nbformat_minor": 4
}
