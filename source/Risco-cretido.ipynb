{
 "cells": [
  {
   "cell_type": "markdown",
   "metadata": {},
   "source": [
    "## Lendo e sepando colunas"
   ]
  },
  {
   "cell_type": "code",
   "execution_count": 12,
   "metadata": {},
   "outputs": [],
   "source": [
    "import pandas as pd\n",
    "\n",
    "df = pd.read_csv('risco_cretido.csv')\n",
    "previsores = df.iloc[:, 0:4].values\n",
    "classe = df.iloc[:, 4].values"
   ]
  },
  {
   "cell_type": "markdown",
   "metadata": {},
   "source": [
    "## Transformação de variáveis categóricas"
   ]
  },
  {
   "cell_type": "code",
   "execution_count": 13,
   "metadata": {},
   "outputs": [],
   "source": [
    "from sklearn.preprocessing import LabelEncoder\n",
    "labelenconder = LabelEncoder()\n",
    "\n",
    "previsores[:,0] = labelenconder.fit_transform(previsores[:,0])\n",
    "previsores[:,1] = labelenconder.fit_transform(previsores[:,1])\n",
    "previsores[:,2] = labelenconder.fit_transform(previsores[:,2])\n",
    "previsores[:,3] = labelenconder.fit_transform(previsores[:,3])"
   ]
  },
  {
   "cell_type": "markdown",
   "metadata": {},
   "source": [
    "## Naive Bayes -> Tabela de Probabilidade"
   ]
  },
  {
   "cell_type": "code",
   "execution_count": 3,
   "metadata": {},
   "outputs": [
    {
     "name": "stdout",
     "output_type": "stream",
     "text": [
      "['baixo' 'moderado']\n"
     ]
    }
   ],
   "source": [
    "from sklearn.naive_bayes import GaussianNB\n",
    "classificador = GaussianNB()\n",
    "classificador.fit(previsores, classe)\n",
    "resultado = classificador.predict([[0, 0, 1, 2], [3, 0, 0, 0]])\n",
    "print(resultado)"
   ]
  },
  {
   "cell_type": "code",
   "execution_count": 4,
   "metadata": {},
   "outputs": [
    {
     "name": "stdout",
     "output_type": "stream",
     "text": [
      "['alto' 'baixo' 'moderado']\n",
      "[6. 5. 3.]\n",
      "[0.42857143 0.35714286 0.21428571]\n"
     ]
    }
   ],
   "source": [
    "print(classificador.classes_)\n",
    "print(classificador.class_count_)\n",
    "print(classificador.class_prior_)"
   ]
  },
  {
   "cell_type": "markdown",
   "metadata": {},
   "source": [
    "## Árvore de Decisão"
   ]
  },
  {
   "cell_type": "code",
   "execution_count": 5,
   "metadata": {},
   "outputs": [
    {
     "name": "stdout",
     "output_type": "stream",
     "text": [
      "[0.41607015 0.10294068 0.03885431 0.44213486]\n"
     ]
    },
    {
     "name": "stderr",
     "output_type": "stream",
     "text": [
      "/home/lindino/anaconda3/lib/python3.7/site-packages/sklearn/utils/deprecation.py:144: FutureWarning: The sklearn.tree.export module is  deprecated in version 0.22 and will be removed in version 0.24. The corresponding classes / functions should instead be imported from sklearn.tree. Anything that cannot be imported from sklearn.tree is now part of the private API.\n",
      "  warnings.warn(message, FutureWarning)\n"
     ]
    }
   ],
   "source": [
    "from sklearn.tree import DecisionTreeClassifier, export\n",
    "classificador = DecisionTreeClassifier(criterion='entropy')\n",
    "classificador.fit(previsores, classe)\n",
    "\n",
    "print(classificador.feature_importances_)\n",
    "\n",
    "export.export_graphviz(classificador,\n",
    "                       out_file = 'arvore.dot',\n",
    "                       feature_names = ['Historia', 'Divida', 'Garantias', 'Renda'],\n",
    "                       class_names = ['Alto', 'Moderado', 'Baixo'],\n",
    "                       filled = True)"
   ]
  },
  {
   "cell_type": "markdown",
   "metadata": {},
   "source": [
    "## Regras -> CN2"
   ]
  },
  {
   "cell_type": "code",
   "execution_count": 6,
   "metadata": {},
   "outputs": [
    {
     "name": "stdout",
     "output_type": "stream",
     "text": [
      "[historia, divida, garantias, renda | risco]\n",
      "IF renda==0_15 THEN risco=alto \n",
      "IF historia==boa AND divida!=alta THEN risco=baixo \n",
      "IF historia==boa AND garantias!=nenhuma THEN risco=baixo \n",
      "IF historia==boa AND renda!=15_35 THEN risco=baixo \n",
      "IF historia==boa THEN risco=moderado \n",
      "IF divida==alta THEN risco=alto \n",
      "IF historia!=desconhecida THEN risco=moderado \n",
      "IF garantias==adequada THEN risco=baixo \n",
      "IF renda==15_35 THEN risco=moderado \n",
      "IF historia==desconhecida THEN risco=alto \n",
      "IF TRUE THEN risco=alto \n",
      "\n",
      "Resultados:  baixo alto "
     ]
    }
   ],
   "source": [
    "import Orange\n",
    "\n",
    "base = Orange.data.Table('risco_cretido.csv')\n",
    "print(base.domain)\n",
    "\n",
    "cn2_learner = Orange.classification.rules.CN2Learner()\n",
    "classificador = cn2_learner(base)\n",
    "\n",
    "for regras in classificador.rule_list:\n",
    "    print(regras, end=\"\\n\")\n",
    "\n",
    "resultado = classificador([['boa', 'alta', 'nenhuma', 'acima_35'], ['ruim', 'alta', 'adequada', '0_15']])\n",
    "\n",
    "print('\\nResultados: ', end=' ')\n",
    "for i in resultado:\n",
    "    print(base.domain.class_var.values[i], end=' ')"
   ]
  },
  {
   "cell_type": "markdown",
   "metadata": {},
   "source": [
    "## Regressão Logística"
   ]
  },
  {
   "cell_type": "code",
   "execution_count": 14,
   "metadata": {},
   "outputs": [
    {
     "name": "stdout",
     "output_type": "stream",
     "text": [
      "[ 0.39746278 -0.51968744  0.12222466]\n",
      "[[ 0.4996621  -0.38257429  0.46670496 -0.85049945]\n",
      " [-0.51993576  0.14838452 -0.25100572  1.03221549]\n",
      " [ 0.02027366  0.23418977 -0.21569924 -0.18171604]]\n"
     ]
    }
   ],
   "source": [
    "from sklearn.linear_model import LogisticRegression\n",
    "classificador = LogisticRegression()\n",
    "classificador.fit(previsores, classe)\n",
    "\n",
    "print(classificador.intercept_)\n",
    "print(classificador.coef_)"
   ]
  },
  {
   "cell_type": "code",
   "execution_count": 17,
   "metadata": {},
   "outputs": [
    {
     "name": "stdout",
     "output_type": "stream",
     "text": [
      "Resultado: ['baixo' 'alto']\n",
      " Probabilidade: [[0.09189631 0.77373529 0.13436841]\n",
      " [0.83401941 0.01564753 0.15033306]]\n"
     ]
    }
   ],
   "source": [
    "resultado = classificador.predict([[0, 0, 1, 2], [3, 0, 0, 0]])\n",
    "resultado2 = classificador.predict_proba([[0, 0, 1, 2], [3, 0, 0, 0]])\n",
    "print('Resultado: {}\\n Probabilidade: {}'.format(resultado, resultado2))"
   ]
  },
  {
   "cell_type": "code",
   "execution_count": null,
   "metadata": {},
   "outputs": [],
   "source": []
  }
 ],
 "metadata": {
  "kernelspec": {
   "display_name": "Python 3",
   "language": "python",
   "name": "python3"
  },
  "language_info": {
   "codemirror_mode": {
    "name": "ipython",
    "version": 3
   },
   "file_extension": ".py",
   "mimetype": "text/x-python",
   "name": "python",
   "nbconvert_exporter": "python",
   "pygments_lexer": "ipython3",
   "version": "3.7.6"
  }
 },
 "nbformat": 4,
 "nbformat_minor": 4
}
